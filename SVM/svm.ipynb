{
 "cells": [
  {
   "cell_type": "code",
   "execution_count": 3,
   "id": "922d841a",
   "metadata": {},
   "outputs": [],
   "source": [
    "import pandas as pd\n",
    "import numpy as np\n",
    "\n",
    "df_sans_doublons = pd.read_csv('../dataSansDoublons.csv')\n",
    "df_binaire = pd.read_csv('../dataBinaire.csv')\n",
    "df_log_transforme = pd.read_csv('../dataLogTransforme.csv')"
   ]
  },
  {
   "cell_type": "code",
   "execution_count": 4,
   "id": "cf5b9107",
   "metadata": {},
   "outputs": [
    {
     "name": "stdout",
     "output_type": "stream",
     "text": [
      "Sélection de 72 caractéristiques avec RFE-SVM:\n",
      "['CertOpenStore', 'CoCreateInstance', 'CoCreateInstanceEx', 'CoGetClassObject', 'CreateActCtxW', 'CreateProcessInternalW', 'CreateThread', 'CreateToolhelp32Snapshot', 'CryptAcquireContextA', 'CryptDecodeObjectEx', 'DeviceIoControl', 'DrawTextExW', 'FindResourceExA', 'GetBestInterfaceEx', 'GetDiskFreeSpaceExW', 'GetFileInformationByHandle', 'GetFileSizeEx', 'GetFileType', 'GetFileVersionInfoSizeW', 'GetForegroundWindow', 'GetNativeSystemInfo', 'GetSystemTimeAsFileTime', 'GetTimeZoneInformation', 'GetUserNameExW', 'LdrGetDllHandle', 'LdrGetProcedureAddress', 'LdrUnloadDll', 'LookupPrivilegeValueW', 'NetShareEnum', 'NtClose', 'NtCreateFile', 'NtCreateMutant', 'NtDeviceIoControlFile', 'NtDuplicateObject', 'NtOpenDirectoryObject', 'NtOpenSection', 'NtProtectVirtualMemory', 'NtQueryAttributesFile', 'NtQueryInformationFile', 'NtQuerySystemInformation', 'NtReadFile', 'NtSetInformationFile', 'NtTerminateProcess', 'NtUnmapViewOfSection', 'OleInitialize', 'OpenSCManagerW', 'RegCreateKeyExA', 'RegDeleteKeyW', 'RegEnumKeyExW', 'RegOpenKeyExW', 'RemoveDirectoryA', 'SetEndOfFile', 'SetErrorMode', 'SetFilePointer', 'SHGetFolderPathW', 'SizeofResource', 'Thread32Next', 'UuidCreate', 'WriteConsoleA', 'WriteConsoleW', 'ransomware_signatures_detected', 'HKEY_LOCAL_MACHINE\\\\SOFTWARE\\\\Microsoft\\\\OLE', 'HKEY_CURRENT_USER\\\\Software\\\\Microsoft\\\\Windows\\\\CurrentVersion\\\\Run', 'HKEY_LOCAL_MACHINE\\\\Software\\\\Microsoft\\\\Windows\\\\CurrentVersion\\\\Run', 'HKEY_LOCAL_MACHINE\\\\Software\\\\Microsoft\\\\Windows\\\\CurrentVersion\\\\Internet Settings\\\\', 'HKEY_LOCAL_MACHINE\\\\Software\\\\Microsoft\\\\Rpc\\\\', 'HKEY_LOCAL_MACHINE\\\\SYSTEM\\\\Setup\\\\OOBEInProgress', 'activite_reseau', 'activite_fichier', 'activite_processus', 'utilise_persistance', 'manipule_processus']\n"
     ]
    },
    {
     "data": {
      "image/png": "[encoded data removed]",
      "text/plain": [
       "<Figure size 640x480 with 1 Axes>"
      ]
     },
     "metadata": {},
     "output_type": "display_data"
    },
    {
     "name": "stdout",
     "output_type": "stream",
     "text": [
      "SVM avec caractéristiques RFE - Rapport de classification:\n",
      "              precision    recall  f1-score   support\n",
      "\n",
      "           0       0.99      0.96      0.97        79\n",
      "           1       0.96      0.99      0.97        67\n",
      "\n",
      "    accuracy                           0.97       146\n",
      "   macro avg       0.97      0.97      0.97       146\n",
      "weighted avg       0.97      0.97      0.97       146\n",
      "\n",
      "Accuracy: 0.9726027397260274\n",
      "ROC AUC: 0.994898923105989\n"
     ]
    }
   ],
   "source": [
    "import seaborn as sns\n",
    "from sklearn.svm import SVC\n",
    "from sklearn.feature_selection import RFE\n",
    "from sklearn.preprocessing import StandardScaler\n",
    "from sklearn.model_selection import train_test_split\n",
    "from sklearn.metrics import classification_report, confusion_matrix, roc_auc_score\n",
    "import matplotlib.pyplot as plt\n",
    "\n",
    "# Modèle SVM avec RFE\n",
    "svm_model = SVC(kernel='linear', probability=True, random_state=42)\n",
    "rfe = RFE(estimator=svm_model, n_features_to_select=72, step=1)\n",
    "\n",
    "# Préparation des données\n",
    "X = df_log_transforme.drop('Sample_Type', axis=1)\n",
    "y = df_log_transforme['Sample_Type']\n",
    "\n",
    "# Normalisation\n",
    "scaler = StandardScaler()\n",
    "X_scaled = scaler.fit_transform(X)\n",
    "X_scaled_df = pd.DataFrame(X_scaled, columns=X.columns)\n",
    "\n",
    "# Entraînement RFE\n",
    "rfe.fit(X_scaled_df, y)\n",
    "selected_features = X.columns[rfe.support_]\n",
    "\n",
    "print(f\"Sélection de {len(selected_features)} caractéristiques avec RFE-SVM:\")\n",
    "print(selected_features.tolist())\n",
    "\n",
    "\n",
    "\n",
    "# Modèle avec caractéristiques sélectionnées\n",
    "X_selected_svm_rfe = X_scaled_df[selected_features]\n",
    "\n",
    "# Séparation train/test\n",
    "X_train_svm, X_test_svm, y_train_svm, y_test_svm = train_test_split(\n",
    "    X_selected_svm_rfe, y, test_size=0.2, random_state=42)\n",
    "\n",
    "# Entraînement modèle final\n",
    "svm_final = SVC(kernel='linear', probability=True, random_state=42)\n",
    "svm_final.fit(X_train_svm, y_train_svm)\n",
    "\n",
    "# Prédictions et évaluation\n",
    "y_pred_svm = svm_final.predict(X_test_svm)\n",
    "\n",
    "# Créer la matrice de confusion\n",
    "conf_matrix = confusion_matrix(y_test_svm, y_pred_svm)\n",
    "\n",
    "# Tracer la matrice de confusion\n",
    "sns.heatmap(conf_matrix, annot=True, fmt='d', cmap='Blues', cbar=False)\n",
    "plt.title(f'Matrice de Confusion - SVM avec caractéristiques RFE')\n",
    "plt.xlabel('Prédit')\n",
    "plt.ylabel('Réel')\n",
    "plt.tight_layout()\n",
    "plt.ylabel('Classe Réelle')\n",
    "plt.xlabel('Classe Prédite')\n",
    "plt.show()\n",
    "\n",
    "\n",
    "\n",
    "print(\"SVM avec caractéristiques RFE - Rapport de classification:\")\n",
    "print(classification_report(y_test_svm, y_pred_svm))\n",
    "print(\"Accuracy:\", svm_final.score(X_test_svm, y_test_svm))\n",
    "print(\"ROC AUC:\", roc_auc_score(y_test_svm, svm_final.predict_proba(X_test_svm)[:, 1]))\n"
   ]
  },
  {
   "cell_type": "code",
   "execution_count": 5,
   "id": "a20f9b7e",
   "metadata": {
    "vscode": {
     "languageId": "ruby"
    }
   },
   "outputs": [
    {
     "name": "stdout",
     "output_type": "stream",
     "text": [
      "Recall score: 0.9851\n",
      "Recall for class 0: 0.9620\n",
      "Recall for class 1: 0.9851\n",
      "Recall for class macro avg: 0.9735\n",
      "Recall for class weighted avg: 0.9726\n"
     ]
    }
   ],
   "source": [
    "from sklearn.metrics import recall_score\n",
    "\n",
    "# Calculate recall\n",
    "recall = recall_score(y_test_svm, y_pred_svm)\n",
    "print(f\"Recall score: {recall:.4f}\")\n",
    "\n",
    "# If your classification is multi-class, you might want to see recall for each class\n",
    "recall_per_class = classification_report(y_test_svm, y_pred_svm, output_dict=True)\n",
    "for class_name, metrics in recall_per_class.items():\n",
    "    if isinstance(metrics, dict) and 'recall' in metrics:\n",
    "        print(f\"Recall for class {class_name}: {metrics['recall']:.4f}\")"
   ]
  }
 ],
 "metadata": {
  "kernelspec": {
   "display_name": "Python 3",
   "language": "python",
   "name": "python3"
  },
  "language_info": {
   "codemirror_mode": {
    "name": "ipython",
    "version": 3
   },
   "file_extension": ".py",
   "mimetype": "text/x-python",
   "name": "python",
   "nbconvert_exporter": "python",
   "pygments_lexer": "ipython3",
   "version": "3.13.2"
  }
 },
 "nbformat": 4,
 "nbformat_minor": 5
}
